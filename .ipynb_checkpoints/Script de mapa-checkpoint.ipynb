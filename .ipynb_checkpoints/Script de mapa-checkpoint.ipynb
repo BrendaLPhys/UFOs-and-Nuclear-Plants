{
 "cells": [
  {
   "cell_type": "code",
   "execution_count": 1,
   "metadata": {},
   "outputs": [],
   "source": [
    "import plotly.graph_objects as go"
   ]
  },
  {
   "cell_type": "code",
   "execution_count": null,
   "metadata": {},
   "outputs": [],
   "source": [
    "fig = go.Figure()\n",
    "\n",
    "fig.add_trace(go.Scattergeo(\n",
    "        lat=data1.latitude,\n",
    "        lon=data1.longitude,\n",
    "        mode='markers',\n",
    "        marker=go.scattergeo.Marker(\n",
    "            size=7,\n",
    "            color='teal',\n",
    "            opacity=0.7,\n",
    "        ),\n",
    "        text=data1.datetime,\n",
    "        hoverinfo='text',\n",
    "        name = 'UFO sighting'\n",
    "        \n",
    "    ))\n",
    "\n",
    "fig.add_trace(go.Scattergeo(\n",
    "        lat=data2.Latitude,\n",
    "        lon=data2.Longitude,\n",
    "        mode='markers',\n",
    "        marker=go.scattergeo.Marker(\n",
    "            size=8,\n",
    "            color='black',\n",
    "            opacity=0.7\n",
    "        ),\n",
    "        text=data2.Plant,\n",
    "        hoverinfo='text',\n",
    "        name = 'Nuclear facility'\n",
    "    ))\n",
    "\n",
    "fig.update_layout(\n",
    "    title='Nuclear facilities / UFO sightings',\n",
    "    autosize=True,\n",
    "    hovermode='closest',\n",
    "    showlegend=True,\n",
    "    );\n",
    "\n",
    "fig.show()"
   ]
  }
 ],
 "metadata": {
  "kernelspec": {
   "display_name": "Python 3",
   "language": "python",
   "name": "python3"
  },
  "language_info": {
   "codemirror_mode": {
    "name": "ipython",
    "version": 3
   },
   "file_extension": ".py",
   "mimetype": "text/x-python",
   "name": "python",
   "nbconvert_exporter": "python",
   "pygments_lexer": "ipython3",
   "version": "3.8.5"
  }
 },
 "nbformat": 4,
 "nbformat_minor": 4
}

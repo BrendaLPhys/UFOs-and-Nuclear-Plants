{
 "cells": [
  {
   "cell_type": "markdown",
   "metadata": {},
   "source": [
    "# <span style='color:Blue'> *Proyecto Final*  </span>\n",
    " \n",
    "## Ejercicio en Ciencia de Datos y creación de un Dashboard informativo\n",
    "\n",
    "### Maestría en Ciencia de Datos / Universidad de Sonora\n",
    "### Curso: Ingeniería de Características\n",
    "\n",
    "####  Alumna: Brenda Leyva Amaya\n",
    "\n",
    "#### <span style='color:Red'> Entregas indicadas: </span>\n",
    "\n",
    "> 1. Script de proceso reproducible de limpieza de datos. \n",
    "\n",
    "> 2. Archivo de datos \"Tidy\".\n",
    "\n",
    "> 3. Diccionario de términos.\n",
    "\n",
    "> 4. Dashboard en base a datos tidy y al menos dos herramientas de ingeniería de características. \n",
    ">> * *transformación de datos* \n",
    ">> * *representación de datos cualitativos*\n",
    ">> * *detección de outliers*\n",
    ">> * *imutación de datos perdidos*\n",
    ">> * *análisis en componentes principales*\n",
    ">> * *graficación con t-SNE y/o medición de la correlación de variables*\n",
    "\n",
    "> 5. Entrada de Medium correspondiente. \n",
    "\n",
    "\n",
    "**Fuentes de datos:**\n",
    "\n",
    "* [UFO Sightings](https://www.kaggle.com/NUFORC/ufo-sightings)\n",
    "\n",
    "* [Nuclear Power Plants and Reactors](https://www.kaggle.com/liananapalkova/nuclear-power-plants)\n",
    "\n",
    "\n",
    "**Algunos artículos de referencia:**\n",
    "\n",
    "* [UFO Disclosure and Sightings](https://storymaps.arcgis.com/stories/35c19e657e134a45bff7efd0beaf5d14)\n",
    "\n",
    "* [Why Have There Been So Many UFO Sightings Near Nuclear Facilities?](https://www.history.com/news/ufos-near-nuclear-facilities-uss-roosevelt-rendlesham)\n",
    "\n",
    "* [Do Nuclear Facilities Attract UFOs?](https://www.cufon.org/contributors/DJ/Do%20Nuclear%20Facilities%20Attract%20UFOs.htm#_ftnref1)\n",
    "\n",
    "\n",
    "\n",
    "**Entrega:** *11 de diciembre, 2020*\n"
   ]
  },
  {
   "cell_type": "markdown",
   "metadata": {},
   "source": [
    "#### Importamos librerías"
   ]
  },
  {
   "cell_type": "code",
   "execution_count": 1,
   "metadata": {},
   "outputs": [],
   "source": [
    "import pandas as pd\n",
    "import numpy as np\n",
    "import matplotlib.pyplot as plt\n",
    "import seaborn as sns\n",
    "import dfply\n",
    "import plotly\n",
    "from scipy import stats\n",
    "%matplotlib inline"
   ]
  },
  {
   "cell_type": "markdown",
   "metadata": {},
   "source": [
    "# Lectura de archivos y limpieza inicial de datos"
   ]
  },
  {
   "cell_type": "markdown",
   "metadata": {},
   "source": [
    "## Dataset 1: Avistamientos"
   ]
  },
  {
   "cell_type": "markdown",
   "metadata": {},
   "source": [
    "La lectura del archivo presentó un par de problemas. Fue necesario hacer la indicación \"engine = 'python'\" para la lectura correcta con pandas y debido a errores en algunas lineas del archivo csv estas se extendían una columna más, sin embargo esa columna no esta definida y causaba conflicto. Después de una revisión rápida al csv parecía ser que los datos que quedaban en esta columna adicional eran solo una serie de ceros y se decidió agregar de manera manual un nombre a dicha columna, \"added\", para poder hacer la lectura."
   ]
  },
  {
   "cell_type": "code",
   "execution_count": 2,
   "metadata": {},
   "outputs": [],
   "source": [
    "data1 = pd.read_csv('UFO.csv', sep = \",\", engine = 'python')"
   ]
  },
  {
   "cell_type": "code",
   "execution_count": 3,
   "metadata": {},
   "outputs": [
    {
     "data": {
      "text/html": [
       "<div>\n",
       "<style scoped>\n",
       "    .dataframe tbody tr th:only-of-type {\n",
       "        vertical-align: middle;\n",
       "    }\n",
       "\n",
       "    .dataframe tbody tr th {\n",
       "        vertical-align: top;\n",
       "    }\n",
       "\n",
       "    .dataframe thead th {\n",
       "        text-align: right;\n",
       "    }\n",
       "</style>\n",
       "<table border=\"1\" class=\"dataframe\">\n",
       "  <thead>\n",
       "    <tr style=\"text-align: right;\">\n",
       "      <th></th>\n",
       "      <th>datetime</th>\n",
       "      <th>city</th>\n",
       "      <th>state</th>\n",
       "      <th>country</th>\n",
       "      <th>shape</th>\n",
       "      <th>duration (seconds)</th>\n",
       "      <th>duration (hours/min)</th>\n",
       "      <th>comments</th>\n",
       "      <th>date posted</th>\n",
       "      <th>latitude</th>\n",
       "      <th>longitude</th>\n",
       "      <th>added</th>\n",
       "    </tr>\n",
       "  </thead>\n",
       "  <tbody>\n",
       "    <tr>\n",
       "      <th>0</th>\n",
       "      <td>10/10/1949 20:30</td>\n",
       "      <td>san marcos</td>\n",
       "      <td>tx</td>\n",
       "      <td>us</td>\n",
       "      <td>cylinder</td>\n",
       "      <td>2700</td>\n",
       "      <td>45 minutes</td>\n",
       "      <td>This event took place in early fall around 194...</td>\n",
       "      <td>4/27/2004</td>\n",
       "      <td>29.8830556</td>\n",
       "      <td>-97.941111</td>\n",
       "      <td>NaN</td>\n",
       "    </tr>\n",
       "    <tr>\n",
       "      <th>1</th>\n",
       "      <td>10/10/1949 21:00</td>\n",
       "      <td>lackland afb</td>\n",
       "      <td>tx</td>\n",
       "      <td>NaN</td>\n",
       "      <td>light</td>\n",
       "      <td>7200</td>\n",
       "      <td>1-2 hrs</td>\n",
       "      <td>1949 Lackland AFB&amp;#44 TX.  Lights racing acros...</td>\n",
       "      <td>12/16/2005</td>\n",
       "      <td>29.38421</td>\n",
       "      <td>-98.581082</td>\n",
       "      <td>NaN</td>\n",
       "    </tr>\n",
       "    <tr>\n",
       "      <th>2</th>\n",
       "      <td>10/10/1955 17:00</td>\n",
       "      <td>chester (uk/england)</td>\n",
       "      <td>NaN</td>\n",
       "      <td>gb</td>\n",
       "      <td>circle</td>\n",
       "      <td>20</td>\n",
       "      <td>20 seconds</td>\n",
       "      <td>Green/Orange circular disc over Chester&amp;#44 En...</td>\n",
       "      <td>1/21/2008</td>\n",
       "      <td>53.2</td>\n",
       "      <td>-2.916667</td>\n",
       "      <td>NaN</td>\n",
       "    </tr>\n",
       "    <tr>\n",
       "      <th>3</th>\n",
       "      <td>10/10/1956 21:00</td>\n",
       "      <td>edna</td>\n",
       "      <td>tx</td>\n",
       "      <td>us</td>\n",
       "      <td>circle</td>\n",
       "      <td>20</td>\n",
       "      <td>1/2 hour</td>\n",
       "      <td>My older brother and twin sister were leaving ...</td>\n",
       "      <td>1/17/2004</td>\n",
       "      <td>28.9783333</td>\n",
       "      <td>-96.645833</td>\n",
       "      <td>NaN</td>\n",
       "    </tr>\n",
       "    <tr>\n",
       "      <th>4</th>\n",
       "      <td>10/10/1960 20:00</td>\n",
       "      <td>kaneohe</td>\n",
       "      <td>hi</td>\n",
       "      <td>us</td>\n",
       "      <td>light</td>\n",
       "      <td>900</td>\n",
       "      <td>15 minutes</td>\n",
       "      <td>AS a Marine 1st Lt. flying an FJ4B fighter/att...</td>\n",
       "      <td>1/22/2004</td>\n",
       "      <td>21.4180556</td>\n",
       "      <td>-157.803611</td>\n",
       "      <td>NaN</td>\n",
       "    </tr>\n",
       "  </tbody>\n",
       "</table>\n",
       "</div>"
      ],
      "text/plain": [
       "           datetime                  city state country     shape  \\\n",
       "0  10/10/1949 20:30            san marcos    tx      us  cylinder   \n",
       "1  10/10/1949 21:00          lackland afb    tx     NaN     light   \n",
       "2  10/10/1955 17:00  chester (uk/england)   NaN      gb    circle   \n",
       "3  10/10/1956 21:00                  edna    tx      us    circle   \n",
       "4  10/10/1960 20:00               kaneohe    hi      us     light   \n",
       "\n",
       "  duration (seconds) duration (hours/min)  \\\n",
       "0               2700           45 minutes   \n",
       "1               7200              1-2 hrs   \n",
       "2                 20           20 seconds   \n",
       "3                 20             1/2 hour   \n",
       "4                900           15 minutes   \n",
       "\n",
       "                                            comments date posted    latitude  \\\n",
       "0  This event took place in early fall around 194...   4/27/2004  29.8830556   \n",
       "1  1949 Lackland AFB&#44 TX.  Lights racing acros...  12/16/2005    29.38421   \n",
       "2  Green/Orange circular disc over Chester&#44 En...   1/21/2008        53.2   \n",
       "3  My older brother and twin sister were leaving ...   1/17/2004  28.9783333   \n",
       "4  AS a Marine 1st Lt. flying an FJ4B fighter/att...   1/22/2004  21.4180556   \n",
       "\n",
       "    longitude  added  \n",
       "0  -97.941111    NaN  \n",
       "1  -98.581082    NaN  \n",
       "2   -2.916667    NaN  \n",
       "3  -96.645833    NaN  \n",
       "4 -157.803611    NaN  "
      ]
     },
     "execution_count": 3,
     "metadata": {},
     "output_type": "execute_result"
    }
   ],
   "source": [
    "data1.head()"
   ]
  },
  {
   "cell_type": "markdown",
   "metadata": {},
   "source": [
    "Eliminamos la columna adicional que solo contiene ceros:"
   ]
  },
  {
   "cell_type": "code",
   "execution_count": 4,
   "metadata": {},
   "outputs": [],
   "source": [
    "data1 = data1.drop('added', axis=1)"
   ]
  },
  {
   "cell_type": "markdown",
   "metadata": {},
   "source": [
    "Utilizando la funcion \"resumetable\" que se define a continuación, hechamos un vistazo a la forma y contenido generales de data1."
   ]
  },
  {
   "cell_type": "code",
   "execution_count": 5,
   "metadata": {},
   "outputs": [],
   "source": [
    "def resumetable(df):\n",
    "    print(f\"Dataset Shape: {df.shape}\")\n",
    "    summary = pd.DataFrame(df.dtypes,columns=['dtypes'])\n",
    "    summary = summary.reset_index()\n",
    "    summary['Name'] = summary['index']\n",
    "    summary = summary[['Name','dtypes']]\n",
    "    summary['Missing'] = df.isnull().sum().values    \n",
    "    summary['Uniques'] = df.nunique().values\n",
    "    summary['First Value'] = df.loc[0].values\n",
    "    summary['Second Value'] = df.loc[1].values\n",
    "\n",
    "    return summary"
   ]
  },
  {
   "cell_type": "code",
   "execution_count": 6,
   "metadata": {},
   "outputs": [
    {
     "name": "stdout",
     "output_type": "stream",
     "text": [
      "Dataset Shape: (88875, 11)\n"
     ]
    },
    {
     "data": {
      "text/html": [
       "<div>\n",
       "<style scoped>\n",
       "    .dataframe tbody tr th:only-of-type {\n",
       "        vertical-align: middle;\n",
       "    }\n",
       "\n",
       "    .dataframe tbody tr th {\n",
       "        vertical-align: top;\n",
       "    }\n",
       "\n",
       "    .dataframe thead th {\n",
       "        text-align: right;\n",
       "    }\n",
       "</style>\n",
       "<table border=\"1\" class=\"dataframe\">\n",
       "  <thead>\n",
       "    <tr style=\"text-align: right;\">\n",
       "      <th></th>\n",
       "      <th>Name</th>\n",
       "      <th>dtypes</th>\n",
       "      <th>Missing</th>\n",
       "      <th>Uniques</th>\n",
       "      <th>First Value</th>\n",
       "      <th>Second Value</th>\n",
       "    </tr>\n",
       "  </thead>\n",
       "  <tbody>\n",
       "    <tr>\n",
       "      <th>0</th>\n",
       "      <td>datetime</td>\n",
       "      <td>object</td>\n",
       "      <td>0</td>\n",
       "      <td>76305</td>\n",
       "      <td>10/10/1949 20:30</td>\n",
       "      <td>10/10/1949 21:00</td>\n",
       "    </tr>\n",
       "    <tr>\n",
       "      <th>1</th>\n",
       "      <td>city</td>\n",
       "      <td>object</td>\n",
       "      <td>196</td>\n",
       "      <td>22018</td>\n",
       "      <td>san marcos</td>\n",
       "      <td>lackland afb</td>\n",
       "    </tr>\n",
       "    <tr>\n",
       "      <th>2</th>\n",
       "      <td>state</td>\n",
       "      <td>object</td>\n",
       "      <td>7519</td>\n",
       "      <td>68</td>\n",
       "      <td>tx</td>\n",
       "      <td>tx</td>\n",
       "    </tr>\n",
       "    <tr>\n",
       "      <th>3</th>\n",
       "      <td>country</td>\n",
       "      <td>object</td>\n",
       "      <td>12561</td>\n",
       "      <td>5</td>\n",
       "      <td>us</td>\n",
       "      <td>NaN</td>\n",
       "    </tr>\n",
       "    <tr>\n",
       "      <th>4</th>\n",
       "      <td>shape</td>\n",
       "      <td>object</td>\n",
       "      <td>3118</td>\n",
       "      <td>29</td>\n",
       "      <td>cylinder</td>\n",
       "      <td>light</td>\n",
       "    </tr>\n",
       "    <tr>\n",
       "      <th>5</th>\n",
       "      <td>duration (seconds)</td>\n",
       "      <td>object</td>\n",
       "      <td>2</td>\n",
       "      <td>546</td>\n",
       "      <td>2700</td>\n",
       "      <td>7200</td>\n",
       "    </tr>\n",
       "    <tr>\n",
       "      <th>6</th>\n",
       "      <td>duration (hours/min)</td>\n",
       "      <td>object</td>\n",
       "      <td>3103</td>\n",
       "      <td>9806</td>\n",
       "      <td>45 minutes</td>\n",
       "      <td>1-2 hrs</td>\n",
       "    </tr>\n",
       "    <tr>\n",
       "      <th>7</th>\n",
       "      <td>comments</td>\n",
       "      <td>object</td>\n",
       "      <td>126</td>\n",
       "      <td>88348</td>\n",
       "      <td>This event took place in early fall around 194...</td>\n",
       "      <td>1949 Lackland AFB&amp;#44 TX.  Lights racing acros...</td>\n",
       "    </tr>\n",
       "    <tr>\n",
       "      <th>8</th>\n",
       "      <td>date posted</td>\n",
       "      <td>object</td>\n",
       "      <td>0</td>\n",
       "      <td>513</td>\n",
       "      <td>4/27/2004</td>\n",
       "      <td>12/16/2005</td>\n",
       "    </tr>\n",
       "    <tr>\n",
       "      <th>9</th>\n",
       "      <td>latitude</td>\n",
       "      <td>object</td>\n",
       "      <td>0</td>\n",
       "      <td>19572</td>\n",
       "      <td>29.8830556</td>\n",
       "      <td>29.38421</td>\n",
       "    </tr>\n",
       "    <tr>\n",
       "      <th>10</th>\n",
       "      <td>longitude</td>\n",
       "      <td>float64</td>\n",
       "      <td>0</td>\n",
       "      <td>20549</td>\n",
       "      <td>-97.9411</td>\n",
       "      <td>-98.5811</td>\n",
       "    </tr>\n",
       "  </tbody>\n",
       "</table>\n",
       "</div>"
      ],
      "text/plain": [
       "                    Name   dtypes  Missing  Uniques  \\\n",
       "0               datetime   object        0    76305   \n",
       "1                   city   object      196    22018   \n",
       "2                  state   object     7519       68   \n",
       "3                country   object    12561        5   \n",
       "4                  shape   object     3118       29   \n",
       "5     duration (seconds)   object        2      546   \n",
       "6   duration (hours/min)   object     3103     9806   \n",
       "7               comments   object      126    88348   \n",
       "8            date posted   object        0      513   \n",
       "9               latitude   object        0    19572   \n",
       "10             longitude  float64        0    20549   \n",
       "\n",
       "                                          First Value  \\\n",
       "0                                    10/10/1949 20:30   \n",
       "1                                          san marcos   \n",
       "2                                                  tx   \n",
       "3                                                  us   \n",
       "4                                            cylinder   \n",
       "5                                                2700   \n",
       "6                                          45 minutes   \n",
       "7   This event took place in early fall around 194...   \n",
       "8                                           4/27/2004   \n",
       "9                                          29.8830556   \n",
       "10                                           -97.9411   \n",
       "\n",
       "                                         Second Value  \n",
       "0                                    10/10/1949 21:00  \n",
       "1                                        lackland afb  \n",
       "2                                                  tx  \n",
       "3                                                 NaN  \n",
       "4                                               light  \n",
       "5                                                7200  \n",
       "6                                             1-2 hrs  \n",
       "7   1949 Lackland AFB&#44 TX.  Lights racing acros...  \n",
       "8                                          12/16/2005  \n",
       "9                                            29.38421  \n",
       "10                                           -98.5811  "
      ]
     },
     "execution_count": 6,
     "metadata": {},
     "output_type": "execute_result"
    }
   ],
   "source": [
    "resumetable(data1)"
   ]
  },
  {
   "cell_type": "markdown",
   "metadata": {},
   "source": [
    "De lo anterior identificamos que se cuenta con 88,875 registros en 11 columnas o atributos, de los cuales 7 tienen valores nulos o faltantes. Observamos que existen campos como la fecha que se han detectado como el tipo de dato objeto, es preferible corregir en este punto a tipos de datos correctos para facilitar su posterior manejo."
   ]
  },
  {
   "cell_type": "code",
   "execution_count": 7,
   "metadata": {},
   "outputs": [],
   "source": [
    "data1[['date','time']] = data1['datetime'].str.split(expand=True)\n",
    "data1['datetime'] = (pd.to_datetime(data1.pop('date'), format='%m/%d/%Y') + \n",
    "                     pd.to_timedelta(data1.pop('time') + ':00'))"
   ]
  },
  {
   "cell_type": "markdown",
   "metadata": {},
   "source": [
    "## Tomando los datos correspondientes a Reino Unido"
   ]
  },
  {
   "cell_type": "markdown",
   "metadata": {},
   "source": [
    "Debido a limitaciones de tiempo y capacidad de computo, limitaremos el análisis a Reino Unido, sin embargo, el dataset es muy extenso y podría realizarse un análisis mucho más profundo considerando todos los países involucrados para los cuales se tiene información también de plantas nucleares."
   ]
  },
  {
   "cell_type": "code",
   "execution_count": 8,
   "metadata": {},
   "outputs": [
    {
     "data": {
      "text/plain": [
       "array(['us', nan, 'gb', 'ca', 'au', 'de'], dtype=object)"
      ]
     },
     "execution_count": 8,
     "metadata": {},
     "output_type": "execute_result"
    }
   ],
   "source": [
    "data1.country.unique()"
   ]
  },
  {
   "cell_type": "code",
   "execution_count": 9,
   "metadata": {},
   "outputs": [],
   "source": [
    "data1 = data1 >> dfply.mask(data1.country == 'gb')"
   ]
  },
  {
   "cell_type": "markdown",
   "metadata": {},
   "source": [
    "#### Detección de filas problemáticas."
   ]
  },
  {
   "cell_type": "markdown",
   "metadata": {},
   "source": [
    "Latitud no esta en el formato correcto asi que lo corregimos, se hace hasta este punto ya que en el paso anterior se eliminaron algunas filas que generaban problema al momento de intentar hacer el cambio."
   ]
  },
  {
   "cell_type": "code",
   "execution_count": 10,
   "metadata": {},
   "outputs": [],
   "source": [
    "data1['latitude'] = data1['latitude'].astype('float64')"
   ]
  },
  {
   "cell_type": "markdown",
   "metadata": {},
   "source": [
    "Filas con duración de 0 segundos:"
   ]
  },
  {
   "cell_type": "code",
   "execution_count": 11,
   "metadata": {},
   "outputs": [
    {
     "data": {
      "text/html": [
       "<div>\n",
       "<style scoped>\n",
       "    .dataframe tbody tr th:only-of-type {\n",
       "        vertical-align: middle;\n",
       "    }\n",
       "\n",
       "    .dataframe tbody tr th {\n",
       "        vertical-align: top;\n",
       "    }\n",
       "\n",
       "    .dataframe thead th {\n",
       "        text-align: right;\n",
       "    }\n",
       "</style>\n",
       "<table border=\"1\" class=\"dataframe\">\n",
       "  <thead>\n",
       "    <tr style=\"text-align: right;\">\n",
       "      <th></th>\n",
       "      <th>datetime</th>\n",
       "      <th>city</th>\n",
       "      <th>state</th>\n",
       "      <th>country</th>\n",
       "      <th>shape</th>\n",
       "      <th>duration (seconds)</th>\n",
       "      <th>duration (hours/min)</th>\n",
       "      <th>comments</th>\n",
       "      <th>date posted</th>\n",
       "      <th>latitude</th>\n",
       "      <th>longitude</th>\n",
       "    </tr>\n",
       "  </thead>\n",
       "  <tbody>\n",
       "    <tr>\n",
       "      <th>1227</th>\n",
       "      <td>2008-10-12 21:30:00</td>\n",
       "      <td>buckinghamshire (uk/england)</td>\n",
       "      <td>NaN</td>\n",
       "      <td>gb</td>\n",
       "      <td>triangle</td>\n",
       "      <td>0</td>\n",
       "      <td>NaN</td>\n",
       "      <td>i saw a ufo</td>\n",
       "      <td>5/12/2009</td>\n",
       "      <td>51.750000</td>\n",
       "      <td>-0.750000</td>\n",
       "    </tr>\n",
       "    <tr>\n",
       "      <th>1429</th>\n",
       "      <td>2004-10-13 07:20:00</td>\n",
       "      <td>manchester (uk/england)</td>\n",
       "      <td>NaN</td>\n",
       "      <td>gb</td>\n",
       "      <td>light</td>\n",
       "      <td>0</td>\n",
       "      <td>NaN</td>\n",
       "      <td>Two lights in Sky</td>\n",
       "      <td>10/27/2004</td>\n",
       "      <td>53.500000</td>\n",
       "      <td>-2.216667</td>\n",
       "    </tr>\n",
       "    <tr>\n",
       "      <th>2715</th>\n",
       "      <td>2013-10-16 19:27:00</td>\n",
       "      <td>derbyshire (uk/england)</td>\n",
       "      <td>NaN</td>\n",
       "      <td>gb</td>\n",
       "      <td>oval</td>\n",
       "      <td>0</td>\n",
       "      <td>night</td>\n",
       "      <td>White low flying fast novel shaped craft.</td>\n",
       "      <td>10/23/2013</td>\n",
       "      <td>53.166667</td>\n",
       "      <td>-1.583333</td>\n",
       "    </tr>\n",
       "    <tr>\n",
       "      <th>5248</th>\n",
       "      <td>2009-10-26 20:15:00</td>\n",
       "      <td>manchester (uk/england)</td>\n",
       "      <td>NaN</td>\n",
       "      <td>gb</td>\n",
       "      <td>diamond</td>\n",
       "      <td>0</td>\n",
       "      <td>NaN</td>\n",
       "      <td>Diamond shaped object seen over Miles Platting...</td>\n",
       "      <td>12/12/2009</td>\n",
       "      <td>53.500000</td>\n",
       "      <td>-2.216667</td>\n",
       "    </tr>\n",
       "    <tr>\n",
       "      <th>5339</th>\n",
       "      <td>2000-10-27 11:45:00</td>\n",
       "      <td>sunderland (uk/england)</td>\n",
       "      <td>NaN</td>\n",
       "      <td>gb</td>\n",
       "      <td>NaN</td>\n",
       "      <td>0</td>\n",
       "      <td>NaN</td>\n",
       "      <td>This report was made in my local newspaper &amp;#3...</td>\n",
       "      <td>12/2/2000</td>\n",
       "      <td>54.911944</td>\n",
       "      <td>-1.383333</td>\n",
       "    </tr>\n",
       "    <tr>\n",
       "      <th>...</th>\n",
       "      <td>...</td>\n",
       "      <td>...</td>\n",
       "      <td>...</td>\n",
       "      <td>...</td>\n",
       "      <td>...</td>\n",
       "      <td>...</td>\n",
       "      <td>...</td>\n",
       "      <td>...</td>\n",
       "      <td>...</td>\n",
       "      <td>...</td>\n",
       "      <td>...</td>\n",
       "    </tr>\n",
       "    <tr>\n",
       "      <th>82067</th>\n",
       "      <td>2003-09-13 21:45:00</td>\n",
       "      <td>manchester (uk/england)</td>\n",
       "      <td>NaN</td>\n",
       "      <td>gb</td>\n",
       "      <td>light</td>\n",
       "      <td>0</td>\n",
       "      <td>22.01</td>\n",
       "      <td>dim light making circle movement in sky above ...</td>\n",
       "      <td>9/17/2003</td>\n",
       "      <td>53.500000</td>\n",
       "      <td>-2.216667</td>\n",
       "    </tr>\n",
       "    <tr>\n",
       "      <th>82538</th>\n",
       "      <td>1970-09-16 00:00:00</td>\n",
       "      <td>gillingham (uk/england)</td>\n",
       "      <td>NaN</td>\n",
       "      <td>gb</td>\n",
       "      <td>chevron</td>\n",
       "      <td>0</td>\n",
       "      <td>NaN</td>\n",
       "      <td>Watching Discovery Science on TV about the Phe...</td>\n",
       "      <td>2/8/2005</td>\n",
       "      <td>51.400000</td>\n",
       "      <td>0.566667</td>\n",
       "    </tr>\n",
       "    <tr>\n",
       "      <th>83780</th>\n",
       "      <td>1996-09-19 22:00:00</td>\n",
       "      <td>west yorkshire (uk/england)</td>\n",
       "      <td>NaN</td>\n",
       "      <td>gb</td>\n",
       "      <td>triangle</td>\n",
       "      <td>0</td>\n",
       "      <td>NaN</td>\n",
       "      <td>HBCCUFO CANADIAN REPORT:  The object fly slowl...</td>\n",
       "      <td>6/4/2004</td>\n",
       "      <td>54.000000</td>\n",
       "      <td>-1.500000</td>\n",
       "    </tr>\n",
       "    <tr>\n",
       "      <th>85633</th>\n",
       "      <td>2004-09-24 06:30:00</td>\n",
       "      <td>leicester (uk/england)</td>\n",
       "      <td>NaN</td>\n",
       "      <td>gb</td>\n",
       "      <td>light</td>\n",
       "      <td>0</td>\n",
       "      <td>NaN</td>\n",
       "      <td>The ball of light just hovered above the motor...</td>\n",
       "      <td>9/29/2004</td>\n",
       "      <td>52.664913</td>\n",
       "      <td>-1.034894</td>\n",
       "    </tr>\n",
       "    <tr>\n",
       "      <th>87864</th>\n",
       "      <td>2009-09-05 21:30:00</td>\n",
       "      <td>liverpool (uk/england)</td>\n",
       "      <td>NaN</td>\n",
       "      <td>gb</td>\n",
       "      <td>light</td>\n",
       "      <td>0</td>\n",
       "      <td>unknown</td>\n",
       "      <td>3 Red Lights In Country Lanes&amp;#44 Halewood&amp;#44...</td>\n",
       "      <td>12/12/2009</td>\n",
       "      <td>53.416667</td>\n",
       "      <td>-3.000000</td>\n",
       "    </tr>\n",
       "  </tbody>\n",
       "</table>\n",
       "<p>142 rows × 11 columns</p>\n",
       "</div>"
      ],
      "text/plain": [
       "                 datetime                          city state country  \\\n",
       "1227  2008-10-12 21:30:00  buckinghamshire (uk/england)   NaN      gb   \n",
       "1429  2004-10-13 07:20:00       manchester (uk/england)   NaN      gb   \n",
       "2715  2013-10-16 19:27:00       derbyshire (uk/england)   NaN      gb   \n",
       "5248  2009-10-26 20:15:00       manchester (uk/england)   NaN      gb   \n",
       "5339  2000-10-27 11:45:00       sunderland (uk/england)   NaN      gb   \n",
       "...                   ...                           ...   ...     ...   \n",
       "82067 2003-09-13 21:45:00       manchester (uk/england)   NaN      gb   \n",
       "82538 1970-09-16 00:00:00       gillingham (uk/england)   NaN      gb   \n",
       "83780 1996-09-19 22:00:00   west yorkshire (uk/england)   NaN      gb   \n",
       "85633 2004-09-24 06:30:00        leicester (uk/england)   NaN      gb   \n",
       "87864 2009-09-05 21:30:00        liverpool (uk/england)   NaN      gb   \n",
       "\n",
       "          shape duration (seconds) duration (hours/min)  \\\n",
       "1227   triangle                  0                  NaN   \n",
       "1429      light                  0                  NaN   \n",
       "2715       oval                  0                night   \n",
       "5248    diamond                  0                  NaN   \n",
       "5339        NaN                  0                  NaN   \n",
       "...         ...                ...                  ...   \n",
       "82067     light                  0                22.01   \n",
       "82538   chevron                  0                  NaN   \n",
       "83780  triangle                  0                  NaN   \n",
       "85633     light                  0                  NaN   \n",
       "87864     light                  0              unknown   \n",
       "\n",
       "                                                comments date posted  \\\n",
       "1227                                         i saw a ufo   5/12/2009   \n",
       "1429                                   Two lights in Sky  10/27/2004   \n",
       "2715           White low flying fast novel shaped craft.  10/23/2013   \n",
       "5248   Diamond shaped object seen over Miles Platting...  12/12/2009   \n",
       "5339   This report was made in my local newspaper &#3...   12/2/2000   \n",
       "...                                                  ...         ...   \n",
       "82067  dim light making circle movement in sky above ...   9/17/2003   \n",
       "82538  Watching Discovery Science on TV about the Phe...    2/8/2005   \n",
       "83780  HBCCUFO CANADIAN REPORT:  The object fly slowl...    6/4/2004   \n",
       "85633  The ball of light just hovered above the motor...   9/29/2004   \n",
       "87864  3 Red Lights In Country Lanes&#44 Halewood&#44...  12/12/2009   \n",
       "\n",
       "        latitude  longitude  \n",
       "1227   51.750000  -0.750000  \n",
       "1429   53.500000  -2.216667  \n",
       "2715   53.166667  -1.583333  \n",
       "5248   53.500000  -2.216667  \n",
       "5339   54.911944  -1.383333  \n",
       "...          ...        ...  \n",
       "82067  53.500000  -2.216667  \n",
       "82538  51.400000   0.566667  \n",
       "83780  54.000000  -1.500000  \n",
       "85633  52.664913  -1.034894  \n",
       "87864  53.416667  -3.000000  \n",
       "\n",
       "[142 rows x 11 columns]"
      ]
     },
     "execution_count": 11,
     "metadata": {},
     "output_type": "execute_result"
    }
   ],
   "source": [
    "data1 >> dfply.mask(data1['duration (seconds)'] == '0')"
   ]
  },
  {
   "cell_type": "code",
   "execution_count": 12,
   "metadata": {},
   "outputs": [],
   "source": [
    "delete = data1 >> dfply.mask(data1['duration (seconds)'] == '0')\n",
    "delete = delete.index\n",
    "data1.drop(delete, inplace=True)"
   ]
  },
  {
   "cell_type": "code",
   "execution_count": 13,
   "metadata": {},
   "outputs": [
    {
     "data": {
      "text/plain": [
       "(1908, 11)"
      ]
     },
     "execution_count": 13,
     "metadata": {},
     "output_type": "execute_result"
    }
   ],
   "source": [
    "data1.shape"
   ]
  },
  {
   "cell_type": "code",
   "execution_count": 14,
   "metadata": {},
   "outputs": [
    {
     "data": {
      "text/plain": [
       "datetime                   0\n",
       "city                       0\n",
       "state                   1896\n",
       "country                    0\n",
       "shape                     50\n",
       "duration (seconds)         0\n",
       "duration (hours/min)       0\n",
       "comments                   0\n",
       "date posted                0\n",
       "latitude                   0\n",
       "longitude                  0\n",
       "dtype: int64"
      ]
     },
     "execution_count": 14,
     "metadata": {},
     "output_type": "execute_result"
    }
   ],
   "source": [
    "data1.isna().sum()"
   ]
  },
  {
   "cell_type": "markdown",
   "metadata": {},
   "source": [
    "Eliminamos datos nulos:"
   ]
  },
  {
   "cell_type": "code",
   "execution_count": 15,
   "metadata": {},
   "outputs": [],
   "source": [
    "data1 = data1.dropna(subset=['shape'])"
   ]
  },
  {
   "cell_type": "code",
   "execution_count": 16,
   "metadata": {},
   "outputs": [
    {
     "data": {
      "text/plain": [
       "(1858, 11)"
      ]
     },
     "execution_count": 16,
     "metadata": {},
     "output_type": "execute_result"
    }
   ],
   "source": [
    "data1.shape"
   ]
  },
  {
   "cell_type": "markdown",
   "metadata": {},
   "source": [
    "Veamos las formas más comunes de los avistamientos:"
   ]
  },
  {
   "cell_type": "code",
   "execution_count": 17,
   "metadata": {},
   "outputs": [
    {
     "data": {
      "text/plain": [
       "light        361\n",
       "circle       244\n",
       "triangle     169\n",
       "sphere       158\n",
       "other        134\n",
       "fireball     117\n",
       "disk         102\n",
       "unknown       93\n",
       "oval          86\n",
       "cigar         60\n",
       "formation     60\n",
       "changing      46\n",
       "diamond       43\n",
       "teardrop      38\n",
       "egg           32\n",
       "cylinder      30\n",
       "rectangle     29\n",
       "flash         25\n",
       "cone          13\n",
       "cross         10\n",
       "chevron        8\n",
       "Name: shape, dtype: int64"
      ]
     },
     "execution_count": 17,
     "metadata": {},
     "output_type": "execute_result"
    }
   ],
   "source": [
    "data1['shape'].value_counts()"
   ]
  },
  {
   "cell_type": "markdown",
   "metadata": {},
   "source": [
    "Guardamos el dataset en un csv nuevo."
   ]
  },
  {
   "cell_type": "code",
   "execution_count": 18,
   "metadata": {},
   "outputs": [],
   "source": [
    "data1.to_csv('UFO_fixed.csv', index = False)"
   ]
  },
  {
   "cell_type": "markdown",
   "metadata": {},
   "source": [
    "## Dataset 2: Plantas nucleares"
   ]
  },
  {
   "cell_type": "code",
   "execution_count": 19,
   "metadata": {},
   "outputs": [],
   "source": [
    "data2 = pd.read_csv('nuclear_plants.csv')"
   ]
  },
  {
   "cell_type": "code",
   "execution_count": 20,
   "metadata": {},
   "outputs": [
    {
     "data": {
      "text/html": [
       "<div>\n",
       "<style scoped>\n",
       "    .dataframe tbody tr th:only-of-type {\n",
       "        vertical-align: middle;\n",
       "    }\n",
       "\n",
       "    .dataframe tbody tr th {\n",
       "        vertical-align: top;\n",
       "    }\n",
       "\n",
       "    .dataframe thead th {\n",
       "        text-align: right;\n",
       "    }\n",
       "</style>\n",
       "<table border=\"1\" class=\"dataframe\">\n",
       "  <thead>\n",
       "    <tr style=\"text-align: right;\">\n",
       "      <th></th>\n",
       "      <th>FID</th>\n",
       "      <th>Region</th>\n",
       "      <th>Country</th>\n",
       "      <th>Plant</th>\n",
       "      <th>NumReactor</th>\n",
       "      <th>Latitude</th>\n",
       "      <th>Longitude</th>\n",
       "      <th>p90_1200</th>\n",
       "      <th>p00_1200</th>\n",
       "      <th>p10_1200</th>\n",
       "      <th>...</th>\n",
       "      <th>p10r_600</th>\n",
       "      <th>p90_300</th>\n",
       "      <th>p00_300</th>\n",
       "      <th>p10_300</th>\n",
       "      <th>p90u_300</th>\n",
       "      <th>p00u_300</th>\n",
       "      <th>p10u_300</th>\n",
       "      <th>p90r_300</th>\n",
       "      <th>p00r_300</th>\n",
       "      <th>p10r_300</th>\n",
       "    </tr>\n",
       "  </thead>\n",
       "  <tbody>\n",
       "    <tr>\n",
       "      <th>0</th>\n",
       "      <td>0</td>\n",
       "      <td>Europe - Western</td>\n",
       "      <td>SWEDEN</td>\n",
       "      <td>AGESTA</td>\n",
       "      <td>1</td>\n",
       "      <td>59.206022</td>\n",
       "      <td>18.082872</td>\n",
       "      <td>187382000</td>\n",
       "      <td>188684000</td>\n",
       "      <td>188250000</td>\n",
       "      <td>...</td>\n",
       "      <td>8972550.0</td>\n",
       "      <td>5013240.0</td>\n",
       "      <td>5227700.0</td>\n",
       "      <td>5471110.0</td>\n",
       "      <td>3426880.0</td>\n",
       "      <td>3596030.0</td>\n",
       "      <td>3764920.0</td>\n",
       "      <td>1586350.0</td>\n",
       "      <td>1631670.0</td>\n",
       "      <td>1706190</td>\n",
       "    </tr>\n",
       "    <tr>\n",
       "      <th>1</th>\n",
       "      <td>1</td>\n",
       "      <td>Europe - Western</td>\n",
       "      <td>SPAIN</td>\n",
       "      <td>ALMARAZ</td>\n",
       "      <td>2</td>\n",
       "      <td>39.808100</td>\n",
       "      <td>-5.696940</td>\n",
       "      <td>136675000</td>\n",
       "      <td>147718000</td>\n",
       "      <td>163429000</td>\n",
       "      <td>...</td>\n",
       "      <td>19453700.0</td>\n",
       "      <td>17756500.0</td>\n",
       "      <td>18187800.0</td>\n",
       "      <td>20185200.0</td>\n",
       "      <td>10986000.0</td>\n",
       "      <td>11415400.0</td>\n",
       "      <td>12689800.0</td>\n",
       "      <td>6770480.0</td>\n",
       "      <td>6772380.0</td>\n",
       "      <td>7495340</td>\n",
       "    </tr>\n",
       "    <tr>\n",
       "      <th>2</th>\n",
       "      <td>2</td>\n",
       "      <td>America - Latin</td>\n",
       "      <td>BRAZIL</td>\n",
       "      <td>ANGRA</td>\n",
       "      <td>3</td>\n",
       "      <td>-23.007857</td>\n",
       "      <td>-44.458098</td>\n",
       "      <td>99195200</td>\n",
       "      <td>113894000</td>\n",
       "      <td>127898000</td>\n",
       "      <td>...</td>\n",
       "      <td>18605600.0</td>\n",
       "      <td>39546400.0</td>\n",
       "      <td>44701700.0</td>\n",
       "      <td>50210600.0</td>\n",
       "      <td>32788500.0</td>\n",
       "      <td>37064600.0</td>\n",
       "      <td>41648300.0</td>\n",
       "      <td>6757940.0</td>\n",
       "      <td>7637110.0</td>\n",
       "      <td>8562300</td>\n",
       "    </tr>\n",
       "    <tr>\n",
       "      <th>3</th>\n",
       "      <td>3</td>\n",
       "      <td>America - Northern</td>\n",
       "      <td>UNITED STATES OF AMERICA</td>\n",
       "      <td>ARKANSAS ONE</td>\n",
       "      <td>2</td>\n",
       "      <td>35.310320</td>\n",
       "      <td>-93.231289</td>\n",
       "      <td>117830000</td>\n",
       "      <td>132729000</td>\n",
       "      <td>146482000</td>\n",
       "      <td>...</td>\n",
       "      <td>9498240.0</td>\n",
       "      <td>5603180.0</td>\n",
       "      <td>6226360.0</td>\n",
       "      <td>6866840.0</td>\n",
       "      <td>3779400.0</td>\n",
       "      <td>4198920.0</td>\n",
       "      <td>4633770.0</td>\n",
       "      <td>1823770.0</td>\n",
       "      <td>2027450.0</td>\n",
       "      <td>2233070</td>\n",
       "    </tr>\n",
       "    <tr>\n",
       "      <th>4</th>\n",
       "      <td>4</td>\n",
       "      <td>Europe - Western</td>\n",
       "      <td>SPAIN</td>\n",
       "      <td>ASCO</td>\n",
       "      <td>2</td>\n",
       "      <td>41.200000</td>\n",
       "      <td>0.566670</td>\n",
       "      <td>271854000</td>\n",
       "      <td>287134000</td>\n",
       "      <td>308922000</td>\n",
       "      <td>...</td>\n",
       "      <td>17594700.0</td>\n",
       "      <td>14398500.0</td>\n",
       "      <td>15095600.0</td>\n",
       "      <td>16830700.0</td>\n",
       "      <td>11215400.0</td>\n",
       "      <td>11773600.0</td>\n",
       "      <td>13151300.0</td>\n",
       "      <td>3183180.0</td>\n",
       "      <td>3322050.0</td>\n",
       "      <td>3679470</td>\n",
       "    </tr>\n",
       "  </tbody>\n",
       "</table>\n",
       "<p>5 rows × 61 columns</p>\n",
       "</div>"
      ],
      "text/plain": [
       "   FID              Region                   Country         Plant  \\\n",
       "0    0    Europe - Western                    SWEDEN        AGESTA   \n",
       "1    1    Europe - Western                     SPAIN       ALMARAZ   \n",
       "2    2     America - Latin                    BRAZIL         ANGRA   \n",
       "3    3  America - Northern  UNITED STATES OF AMERICA  ARKANSAS ONE   \n",
       "4    4    Europe - Western                     SPAIN          ASCO   \n",
       "\n",
       "   NumReactor   Latitude  Longitude   p90_1200   p00_1200   p10_1200  ...  \\\n",
       "0           1  59.206022  18.082872  187382000  188684000  188250000  ...   \n",
       "1           2  39.808100  -5.696940  136675000  147718000  163429000  ...   \n",
       "2           3 -23.007857 -44.458098   99195200  113894000  127898000  ...   \n",
       "3           2  35.310320 -93.231289  117830000  132729000  146482000  ...   \n",
       "4           2  41.200000   0.566670  271854000  287134000  308922000  ...   \n",
       "\n",
       "     p10r_600     p90_300     p00_300     p10_300    p90u_300    p00u_300  \\\n",
       "0   8972550.0   5013240.0   5227700.0   5471110.0   3426880.0   3596030.0   \n",
       "1  19453700.0  17756500.0  18187800.0  20185200.0  10986000.0  11415400.0   \n",
       "2  18605600.0  39546400.0  44701700.0  50210600.0  32788500.0  37064600.0   \n",
       "3   9498240.0   5603180.0   6226360.0   6866840.0   3779400.0   4198920.0   \n",
       "4  17594700.0  14398500.0  15095600.0  16830700.0  11215400.0  11773600.0   \n",
       "\n",
       "     p10u_300   p90r_300   p00r_300  p10r_300  \n",
       "0   3764920.0  1586350.0  1631670.0   1706190  \n",
       "1  12689800.0  6770480.0  6772380.0   7495340  \n",
       "2  41648300.0  6757940.0  7637110.0   8562300  \n",
       "3   4633770.0  1823770.0  2027450.0   2233070  \n",
       "4  13151300.0  3183180.0  3322050.0   3679470  \n",
       "\n",
       "[5 rows x 61 columns]"
      ]
     },
     "execution_count": 20,
     "metadata": {},
     "output_type": "execute_result"
    }
   ],
   "source": [
    "data2.head()"
   ]
  },
  {
   "cell_type": "code",
   "execution_count": 21,
   "metadata": {},
   "outputs": [
    {
     "data": {
      "text/plain": [
       "(276, 61)"
      ]
     },
     "execution_count": 21,
     "metadata": {},
     "output_type": "execute_result"
    }
   ],
   "source": [
    "data2.shape"
   ]
  },
  {
   "cell_type": "code",
   "execution_count": 22,
   "metadata": {},
   "outputs": [],
   "source": [
    "data2 = data2[['Plant', 'Country', 'Latitude', 'Longitude']]"
   ]
  },
  {
   "cell_type": "code",
   "execution_count": 23,
   "metadata": {},
   "outputs": [
    {
     "data": {
      "text/html": [
       "<div>\n",
       "<style scoped>\n",
       "    .dataframe tbody tr th:only-of-type {\n",
       "        vertical-align: middle;\n",
       "    }\n",
       "\n",
       "    .dataframe tbody tr th {\n",
       "        vertical-align: top;\n",
       "    }\n",
       "\n",
       "    .dataframe thead th {\n",
       "        text-align: right;\n",
       "    }\n",
       "</style>\n",
       "<table border=\"1\" class=\"dataframe\">\n",
       "  <thead>\n",
       "    <tr style=\"text-align: right;\">\n",
       "      <th></th>\n",
       "      <th>Plant</th>\n",
       "      <th>Country</th>\n",
       "      <th>Latitude</th>\n",
       "      <th>Longitude</th>\n",
       "    </tr>\n",
       "  </thead>\n",
       "  <tbody>\n",
       "    <tr>\n",
       "      <th>0</th>\n",
       "      <td>AGESTA</td>\n",
       "      <td>SWEDEN</td>\n",
       "      <td>59.206022</td>\n",
       "      <td>18.082872</td>\n",
       "    </tr>\n",
       "    <tr>\n",
       "      <th>1</th>\n",
       "      <td>ALMARAZ</td>\n",
       "      <td>SPAIN</td>\n",
       "      <td>39.808100</td>\n",
       "      <td>-5.696940</td>\n",
       "    </tr>\n",
       "    <tr>\n",
       "      <th>2</th>\n",
       "      <td>ANGRA</td>\n",
       "      <td>BRAZIL</td>\n",
       "      <td>-23.007857</td>\n",
       "      <td>-44.458098</td>\n",
       "    </tr>\n",
       "    <tr>\n",
       "      <th>3</th>\n",
       "      <td>ARKANSAS ONE</td>\n",
       "      <td>UNITED STATES OF AMERICA</td>\n",
       "      <td>35.310320</td>\n",
       "      <td>-93.231289</td>\n",
       "    </tr>\n",
       "    <tr>\n",
       "      <th>4</th>\n",
       "      <td>ASCO</td>\n",
       "      <td>SPAIN</td>\n",
       "      <td>41.200000</td>\n",
       "      <td>0.566670</td>\n",
       "    </tr>\n",
       "  </tbody>\n",
       "</table>\n",
       "</div>"
      ],
      "text/plain": [
       "          Plant                   Country   Latitude  Longitude\n",
       "0        AGESTA                    SWEDEN  59.206022  18.082872\n",
       "1       ALMARAZ                     SPAIN  39.808100  -5.696940\n",
       "2         ANGRA                    BRAZIL -23.007857 -44.458098\n",
       "3  ARKANSAS ONE  UNITED STATES OF AMERICA  35.310320 -93.231289\n",
       "4          ASCO                     SPAIN  41.200000   0.566670"
      ]
     },
     "execution_count": 23,
     "metadata": {},
     "output_type": "execute_result"
    }
   ],
   "source": [
    "data2.head()"
   ]
  },
  {
   "cell_type": "code",
   "execution_count": 24,
   "metadata": {},
   "outputs": [
    {
     "data": {
      "text/plain": [
       "Plant         object\n",
       "Country       object\n",
       "Latitude     float64\n",
       "Longitude    float64\n",
       "dtype: object"
      ]
     },
     "execution_count": 24,
     "metadata": {},
     "output_type": "execute_result"
    }
   ],
   "source": [
    "data2.dtypes"
   ]
  },
  {
   "cell_type": "code",
   "execution_count": 25,
   "metadata": {},
   "outputs": [
    {
     "data": {
      "text/plain": [
       "array(['SWEDEN', 'SPAIN', 'BRAZIL', 'UNITED STATES OF AMERICA',\n",
       "       'ARGENTINA', 'GERMANY', 'RUSSIAN FEDERATION', 'BULGARIA', 'FRANCE',\n",
       "       'UNITED KINGDOM', 'SWITZERLAND', 'KAZAKHSTAN', 'SLOVAK REPUBLIC',\n",
       "       'NETHERLANDS', 'CANADA', 'IRAN, ISLAMIC REPUBLIC OF', 'ITALY',\n",
       "       'CHINA', 'ROMANIA', 'PAKISTAN', 'UKRAINE', 'TAIWAN, CHINA',\n",
       "       'BELGIUM', 'CZECH REPUBLIC', 'JAPAN', 'LITHUANIA', 'INDIA',\n",
       "       'SOUTH AFRICA', 'KOREA, REPUBLIC OF', 'SLOVENIA', 'MEXICO',\n",
       "       'FINLAND', 'ARMENIA', 'HUNGARY'], dtype=object)"
      ]
     },
     "execution_count": 25,
     "metadata": {},
     "output_type": "execute_result"
    }
   ],
   "source": [
    "data2.Country.unique()"
   ]
  },
  {
   "cell_type": "code",
   "execution_count": 26,
   "metadata": {},
   "outputs": [],
   "source": [
    "data2 = data2 >> dfply.mask(data2.Country == 'UNITED KINGDOM')"
   ]
  },
  {
   "cell_type": "code",
   "execution_count": 27,
   "metadata": {},
   "outputs": [
    {
     "data": {
      "text/plain": [
       "(18, 4)"
      ]
     },
     "execution_count": 27,
     "metadata": {},
     "output_type": "execute_result"
    }
   ],
   "source": [
    "data2.shape"
   ]
  },
  {
   "cell_type": "code",
   "execution_count": 28,
   "metadata": {},
   "outputs": [
    {
     "data": {
      "text/html": [
       "<div>\n",
       "<style scoped>\n",
       "    .dataframe tbody tr th:only-of-type {\n",
       "        vertical-align: middle;\n",
       "    }\n",
       "\n",
       "    .dataframe tbody tr th {\n",
       "        vertical-align: top;\n",
       "    }\n",
       "\n",
       "    .dataframe thead th {\n",
       "        text-align: right;\n",
       "    }\n",
       "</style>\n",
       "<table border=\"1\" class=\"dataframe\">\n",
       "  <thead>\n",
       "    <tr style=\"text-align: right;\">\n",
       "      <th></th>\n",
       "      <th>Plant</th>\n",
       "      <th>Country</th>\n",
       "      <th>Latitude</th>\n",
       "      <th>Longitude</th>\n",
       "    </tr>\n",
       "  </thead>\n",
       "  <tbody>\n",
       "    <tr>\n",
       "      <th>13</th>\n",
       "      <td>BERKELEY</td>\n",
       "      <td>UNITED KINGDOM</td>\n",
       "      <td>51.692500</td>\n",
       "      <td>-2.493611</td>\n",
       "    </tr>\n",
       "    <tr>\n",
       "      <th>23</th>\n",
       "      <td>BRADWELL</td>\n",
       "      <td>UNITED KINGDOM</td>\n",
       "      <td>51.741389</td>\n",
       "      <td>0.896944</td>\n",
       "    </tr>\n",
       "    <tr>\n",
       "      <th>42</th>\n",
       "      <td>CHAPELCROSS</td>\n",
       "      <td>UNITED KINGDOM</td>\n",
       "      <td>55.015660</td>\n",
       "      <td>-3.226050</td>\n",
       "    </tr>\n",
       "    <tr>\n",
       "      <th>66</th>\n",
       "      <td>DOUNREAY</td>\n",
       "      <td>UNITED KINGDOM</td>\n",
       "      <td>58.578140</td>\n",
       "      <td>-3.752330</td>\n",
       "    </tr>\n",
       "    <tr>\n",
       "      <th>70</th>\n",
       "      <td>DUNGENESS</td>\n",
       "      <td>UNITED KINGDOM</td>\n",
       "      <td>50.913889</td>\n",
       "      <td>0.963889</td>\n",
       "    </tr>\n",
       "  </tbody>\n",
       "</table>\n",
       "</div>"
      ],
      "text/plain": [
       "          Plant         Country   Latitude  Longitude\n",
       "13     BERKELEY  UNITED KINGDOM  51.692500  -2.493611\n",
       "23     BRADWELL  UNITED KINGDOM  51.741389   0.896944\n",
       "42  CHAPELCROSS  UNITED KINGDOM  55.015660  -3.226050\n",
       "66     DOUNREAY  UNITED KINGDOM  58.578140  -3.752330\n",
       "70    DUNGENESS  UNITED KINGDOM  50.913889   0.963889"
      ]
     },
     "execution_count": 28,
     "metadata": {},
     "output_type": "execute_result"
    }
   ],
   "source": [
    "data2.head()"
   ]
  },
  {
   "cell_type": "code",
   "execution_count": 29,
   "metadata": {},
   "outputs": [],
   "source": [
    "data2.to_csv('nuclear_fixed.csv', index = False)"
   ]
  },
  {
   "cell_type": "code",
   "execution_count": null,
   "metadata": {},
   "outputs": [],
   "source": []
  }
 ],
 "metadata": {
  "kernelspec": {
   "display_name": "Python 3",
   "language": "python",
   "name": "python3"
  },
  "language_info": {
   "codemirror_mode": {
    "name": "ipython",
    "version": 3
   },
   "file_extension": ".py",
   "mimetype": "text/x-python",
   "name": "python",
   "nbconvert_exporter": "python",
   "pygments_lexer": "ipython3",
   "version": "3.8.5"
  }
 },
 "nbformat": 4,
 "nbformat_minor": 4
}
